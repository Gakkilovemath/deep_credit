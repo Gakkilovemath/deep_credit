{
  "nbformat": 4,
  "nbformat_minor": 0,
  "metadata": {
    "colab": {
      "provenance": [],
      "authorship_tag": "ABX9TyOgTOmNhFV3s4UTIfIDVojQ",
      "include_colab_link": true
    },
    "kernelspec": {
      "name": "python3",
      "display_name": "Python 3"
    },
    "language_info": {
      "name": "python"
    }
  },
  "cells": [
    {
      "cell_type": "markdown",
      "metadata": {
        "id": "view-in-github",
        "colab_type": "text"
      },
      "source": [
        "<a href=\"https://colab.research.google.com/github/Gakkilovemath/deep_credit/blob/main/notebooks/merton_in_jax.ipynb\" target=\"_parent\"><img src=\"https://colab.research.google.com/assets/colab-badge.svg\" alt=\"Open In Colab\"/></a>"
      ]
    },
    {
      "cell_type": "code",
      "source": [
        "import jax\n",
        "import jax.scipy\n",
        "from jax.scipy import special as Sfn\n",
        "from jax import numpy as jnp\n",
        "from jax import grad\n",
        "import numpy as np\n",
        "from jax import value_and_grad\n",
        "import matplotlib.pyplot as plt"
      ],
      "metadata": {
        "id": "W1fikhjJufjG"
      },
      "execution_count": 1,
      "outputs": []
    },
    {
      "cell_type": "markdown",
      "source": [
        "# utils"
      ],
      "metadata": {
        "id": "7xq3vxyQMnET"
      }
    },
    {
      "cell_type": "code",
      "source": [
        "# utils \n",
        "_SQRT_2 = jnp.sqrt(2.)\n",
        "\n",
        "# cds function\n",
        "def N(x):\n",
        "    # cdf function for standard normal distribution.\n",
        "  return (Sfn.erf(x / _SQRT_2) + 1) / 2\n",
        "\n",
        "\n",
        "# black sholes call option price\n",
        "def black_sholes_call_price(S0, K, r, sigma, T):\n",
        "    # option prices for calls\n",
        "    # T is the time to maturity\n",
        "    d1 = (jnp.log(S0 / K) + (r + sigma ** 2 / 2) * T) / sigma * jnp.sqrt(T)\n",
        "    d2 = d1 - sigma * jnp.sqrt(T)\n",
        "    call = S0 * N(d1) - K * jnp.exp(- r * T) * N(d2)\n",
        "    return call\n",
        "\n",
        "\n",
        "# normalization constant\n",
        "APPROX_CONSTANT = 2 / jnp.pi # 2/pi\n",
        "\n",
        "\n",
        "# approximate implied vol functions\n",
        "def approx_implied_vol(C0, S0, K, r, T):\n",
        "    F = S0 * jnp.exp(r * T)\n",
        "    y = jnp.log(F / K)\n",
        "    alpha_c = C0 / (K * jnp.exp(-r * T))\n",
        "    R = 2 * alpha_c - jnp.exp(y) + 1\n",
        "    A = (jnp.exp((1-APPROX_CONSTANT) * y) - jnp.exp(-(1-APPROX_CONSTANT) * y)) ** 2\n",
        "    B = 4 * (jnp.exp(APPROX_CONSTANT * y) + jnp.exp(-APPROX_CONSTANT * y)) - 2 * jnp.exp(-y) * (jnp.exp((1-APPROX_CONSTANT) * y) + jnp.exp(-(1-APPROX_CONSTANT) * y)) * (jnp.exp(2*y)+1-R**2)\n",
        "    C = jnp.exp(-2 * y) * (R ** 2 - (jnp.exp(y) - 1) ** 2) * ((jnp.exp(y) + 1) ** 2 - R ** 2)\n",
        "    beta = 2 * C / (B + jnp.sqrt(B ** 2 + 4 * A * C))\n",
        "    gamma = - (1 / APPROX_CONSTANT) * jnp.log(beta)\n",
        "\n",
        "    if y >= 0:\n",
        "        C_thres = K * jnp.exp(- r * T) * (jnp.exp(y) * A * jnp.sqrt(2*y) - 1/2)\n",
        "        if C0 <= C_thres:\n",
        "            iv = (1 / jnp.sqrt(T)) * (jnp.sqrt(gamma + y) - jnp.sqrt(gamma - y))\n",
        "        else:\n",
        "            iv = (1 / jnp.sqrt(T)) * (jnp.sqrt(gamma + y) + jnp.sqrt(gamma - y))\n",
        "    \n",
        "    if y < 0:\n",
        "        C_thres = K * jnp.exp(- r * T) * (jnp.exp(y) / 2 + A * jnp.sqrt(-2*y))\n",
        "        if C0 <= C_thres:\n",
        "            iv = (1 / jnp.sqrt(T)) * (- jnp.sqrt(gamma + y) + jnp.sqrt(gamma - y))\n",
        "        else:\n",
        "            iv = (1 / jnp.sqrt(T)) * (jnp.sqrt(gamma + y) + jnp.sqrt(gamma - y))\n",
        "    return iv\n",
        "\n",
        "\n",
        "\n",
        "def implied_vol(C0, S0, K, r, T, initial_vol=None, relative_tolerance=1e-12,\n",
        "                max_iterations=100):\n",
        "    \"\"\"Computes implied volatilities from given call prices.\n",
        "    \"\"\"\n",
        "    if initial_vol is None:\n",
        "        initial_vol = approx_implied_vol(C0, S0, K, r, T)\n",
        "    def loss(sigma):\n",
        "        pricer = black_sholes_call_price(S0, K, r, sigma, T)\n",
        "        return ((pricer - C0) ** 2).sum()\n",
        "    # initilization\n",
        "    implied_vol = initial_vol\n",
        "    # docuemnt loss\n",
        "    loss_present = loss(implied_vol)\n",
        "    for i in range(max_iterations):\n",
        "        # calculate the gradient\n",
        "        loss_next, g_sigma = value_and_grad(loss)(implied_vol)\n",
        "        h_sigma = grad(grad(loss))(iv)\n",
        "        # update the parameters\n",
        "        implied_vol = implied_vol - g_sigma * (1 / h_sigma)\n",
        "        if np.abs(loss_next - loss_present) / loss_present < relative_tolerance:\n",
        "            break\n",
        "        loss_present = loss_next\n",
        "    return implied_vol\n",
        "\n"
      ],
      "metadata": {
        "id": "FLffoeHjvgxy",
        "colab": {
          "base_uri": "https://localhost:8080/"
        },
        "outputId": "26fe9007-b74f-4e88-e1df-0f4945f05b6a"
      },
      "execution_count": 2,
      "outputs": [
        {
          "output_type": "stream",
          "name": "stderr",
          "text": [
            "WARNING:jax._src.lib.xla_bridge:No GPU/TPU found, falling back to CPU. (Set TF_CPP_MIN_LOG_LEVEL=0 and rerun for more info.)\n"
          ]
        }
      ]
    },
    {
      "cell_type": "markdown",
      "source": [
        "# Black-Sholes option pricing"
      ],
      "metadata": {
        "id": "A1Bxb5n-mEce"
      }
    },
    {
      "cell_type": "code",
      "source": [
        "# The Greeks with Jax’s automatic differentiation using the grad function.\n",
        "# s0\n",
        "bs_delta = grad(black_sholes_call_price, argnums=0)\n",
        "# s0\n",
        "bs_gamma = grad(bs_delta, argnums=0)\n",
        "# sigma\n",
        "bs_vega = grad(black_sholes_call_price, argnums=3)\n",
        "# T\n",
        "bs_theta = grad(black_sholes_call_price, argnums=4)\n",
        "# T\n",
        "bs_rho = grad(black_sholes_call_price, argnums=2)"
      ],
      "metadata": {
        "id": "anRUwkIBmjxr"
      },
      "execution_count": 3,
      "outputs": []
    },
    {
      "cell_type": "code",
      "source": [
        "S0, K, r, sigma, T = 100., 103., 0.03, 0.6, 1.\n",
        "\n",
        "C0 = black_sholes_call_price(S0, K, r, sigma, T)\n",
        "print(f\"call price at {C0}\")\n",
        "delta = bs_delta(S0, K, r, sigma, T)\n",
        "print(f\"autograd delta is {delta}\")\n",
        "d1 = (jnp.log(S0 / K) + (r + sigma ** 2 / 2) * T) / sigma * jnp.sqrt(T)\n",
        "delta_cal = N(d1)\n",
        "print(f\"calculated delta is {delta_cal}\")"
      ],
      "metadata": {
        "colab": {
          "base_uri": "https://localhost:8080/"
        },
        "id": "FE0UBW6L-qBu",
        "outputId": "6d4b1277-8202-4de7-c20b-1405a2b43041"
      },
      "execution_count": 4,
      "outputs": [
        {
          "output_type": "stream",
          "name": "stdout",
          "text": [
            "call price at 23.59914779663086\n",
            "autograd delta is 0.6181918382644653\n",
            "calculated delta is 0.6181918382644653\n"
          ]
        }
      ]
    },
    {
      "cell_type": "code",
      "source": [
        "# plot the c0 as function of sigma when K is smaller then S0\n",
        "volatilities = jnp.linspace(start=0., stop=10., num=1000)\n",
        "c0 = [black_sholes_call_price(S0, K, r, sigma, T) for sigma in volatilities]\n",
        "plt.plot(volatilities, c0)"
      ],
      "metadata": {
        "id": "-_Nbwd_nmgek",
        "colab": {
          "base_uri": "https://localhost:8080/",
          "height": 282
        },
        "outputId": "17d2fa49-3984-4766-fc36-d920b39b95d7"
      },
      "execution_count": 5,
      "outputs": [
        {
          "output_type": "execute_result",
          "data": {
            "text/plain": [
              "[<matplotlib.lines.Line2D at 0x7faa2986e910>]"
            ]
          },
          "metadata": {},
          "execution_count": 5
        },
        {
          "output_type": "display_data",
          "data": {
            "text/plain": [
              "<Figure size 432x288 with 1 Axes>"
            ],
            "image/png": "[encoded data removed]"
          },
          "metadata": {
            "needs_background": "light"
          }
        }
      ]
    },
    {
      "cell_type": "code",
      "source": [
        "if 0:\n",
        "    # Price a batch of 5 vanilla call options.\n",
        "    sigma_list = np.array([0.0001, 102.0, 2.0, 0.1, 0.4])\n",
        "    S0_list = np.array([1.0, 2.0, 3.0, 4.0, 5.0])\n",
        "    # Strikes will automatically be broadcasted to shape\n",
        "    K_list = np.array([3.0])\n",
        "    # Expiries will be broadcast to shape [5], i.e. each option has strike=3 and expiry = 1.\n",
        "    T_list = 1.0\n",
        "    r_list = 0.3\n",
        "\n",
        "    black_sholes_call_price(S0=S0_list, K=K_list, r=r_list, sigma=sigma_list, T=T_list)"
      ],
      "metadata": {
        "id": "KztVcRxVSJaf"
      },
      "execution_count": 6,
      "outputs": []
    },
    {
      "cell_type": "markdown",
      "source": [
        "# Implied Volatility"
      ],
      "metadata": {
        "id": "2pprbbCG1DNI"
      }
    },
    {
      "cell_type": "markdown",
      "source": [
        "Approximates the implied vol using the Stefanica-Radiocic algorithm.\n",
        "\n",
        "Finds an approximation to the implied vol using the Polya approximation for\n",
        "  the Normal CDF. This algorithm was described by Stefanica and Radiocic in\n",
        "  ref [1]. They show that if the Normal CDFs appearing in the Black Scholes\n",
        "  formula for the option price are replaced with Polya's approximation, the\n",
        "  implied vol can be solved for analytically. The Polya approximation produces\n",
        "  absolute errors of less than 0.003 and the resulting implied vol is fairly\n",
        "  close to the true value. For practical purposes, this may not be accurate\n",
        "  enough so this result should be used as a starting point for some method with\n",
        "  controllable tolerance (e.g. a root finder).\n",
        "\n",
        "  \n",
        "**References**:\n",
        "\n",
        "  [1]: Dan Stefanica and Rados Radoicic. An explicit implied volatility formula.\n",
        "    International Journal of Theoretical and Applied Finance,\n",
        "    Vol. 20, no. 7, 2017.\n",
        "    https://papers.ssrn.com/sol3/papers.cfm?abstract_id=2908494\n",
        "\n",
        "  [2]: Omar Eidous, Samar Al-Salman. One-term approximation for Normal\n",
        "    distribution function. Mathematics and Statistics 4(1), 2016.\n",
        "    http://www.hrpub.org/download/20160229/MS2-13405192.pdf"
      ],
      "metadata": {
        "id": "WMiZDQg82Wun"
      }
    },
    {
      "cell_type": "code",
      "source": [
        "C0, S0, K, r, T, sigma"
      ],
      "metadata": {
        "colab": {
          "base_uri": "https://localhost:8080/"
        },
        "id": "8mpjLtmS8xi7",
        "outputId": "594214fb-deb9-41ba-9f93-8af47ad9a7e9"
      },
      "execution_count": 7,
      "outputs": [
        {
          "output_type": "execute_result",
          "data": {
            "text/plain": [
              "(DeviceArray(23.599148, dtype=float32, weak_type=True),\n",
              " 100.0,\n",
              " 103.0,\n",
              " 0.03,\n",
              " 1.0,\n",
              " 0.6)"
            ]
          },
          "metadata": {},
          "execution_count": 7
        }
      ]
    },
    {
      "cell_type": "code",
      "source": [
        "# approximate vol\n",
        "iv = approx_implied_vol(C0, S0, K, r, T)\n",
        "iv"
      ],
      "metadata": {
        "colab": {
          "base_uri": "https://localhost:8080/"
        },
        "id": "9DXWh0HimgNM",
        "outputId": "a1a0f5a8-854f-40ac-9a02-e1f08afe403f"
      },
      "execution_count": 8,
      "outputs": [
        {
          "output_type": "execute_result",
          "data": {
            "text/plain": [
              "DeviceArray(0.59959626, dtype=float32, weak_type=True)"
            ]
          },
          "metadata": {},
          "execution_count": 8
        }
      ]
    },
    {
      "cell_type": "code",
      "source": [
        "C0, S0, K, r, T"
      ],
      "metadata": {
        "colab": {
          "base_uri": "https://localhost:8080/"
        },
        "id": "_vpPk4nnaB6K",
        "outputId": "c189542e-ab00-4d86-a285-d296022a30ac"
      },
      "execution_count": 9,
      "outputs": [
        {
          "output_type": "execute_result",
          "data": {
            "text/plain": [
              "(DeviceArray(23.599148, dtype=float32, weak_type=True),\n",
              " 100.0,\n",
              " 103.0,\n",
              " 0.03,\n",
              " 1.0)"
            ]
          },
          "metadata": {},
          "execution_count": 9
        }
      ]
    },
    {
      "cell_type": "code",
      "source": [
        "implied_vol(C0, S0, K, r, T), sigma"
      ],
      "metadata": {
        "colab": {
          "base_uri": "https://localhost:8080/"
        },
        "id": "h6-58NOJaB1X",
        "outputId": "18a1de6d-ac8d-4e91-ccbd-acf5c4969743"
      },
      "execution_count": 10,
      "outputs": [
        {
          "output_type": "execute_result",
          "data": {
            "text/plain": [
              "(DeviceArray(0.5999999, dtype=float32, weak_type=True), 0.6)"
            ]
          },
          "metadata": {},
          "execution_count": 10
        }
      ]
    },
    {
      "cell_type": "code",
      "source": [],
      "metadata": {
        "id": "HvFJ7A-JlN3S"
      },
      "execution_count": 10,
      "outputs": []
    }
  ]
}